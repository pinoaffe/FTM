{
 "cells": [
  {
   "cell_type": "markdown",
   "metadata": {},
   "source": [
    "# Analysis of the FTM dataset on EU elections 2019\n",
    "Data source : https://www.ftm.nl/artikelen/eurosceptici-donaties\n",
    "\n",
    "Data licence, according to the above page : https://creativecommons.org/licenses/by-sa/4.0/\n",
    "\n",
    "Given the licence, the data files are available in github, to make it easier to  extend this analysis. "
   ]
  },
  {
   "cell_type": "code",
   "execution_count": 1,
   "metadata": {
    "collapsed": true
   },
   "outputs": [],
   "source": [
    "import pandas as pd\n",
    "import ipysankeywidget as sw\n",
    "import ipywidgets as ipw\n",
    "\n",
    "all_data = pd.read_stata('data/EUdonations1418.dta')\n",
    "countries = pd.read_csv('data/CountryCodesAndNames.csv')\n",
    "#Add the country names to the table for easyer manipulation\n",
    "all_data = all_data.merge(countries, how='left', left_on='country', right_on='CountryID')"
   ]
  },
  {
   "cell_type": "code",
   "execution_count": 2,
   "metadata": {},
   "outputs": [
    {
     "data": {
      "text/html": [
       "<div>\n",
       "<style scoped>\n",
       "    .dataframe tbody tr th:only-of-type {\n",
       "        vertical-align: middle;\n",
       "    }\n",
       "\n",
       "    .dataframe tbody tr th {\n",
       "        vertical-align: top;\n",
       "    }\n",
       "\n",
       "    .dataframe thead th {\n",
       "        text-align: right;\n",
       "    }\n",
       "</style>\n",
       "<table border=\"1\" class=\"dataframe\">\n",
       "  <thead>\n",
       "    <tr style=\"text-align: right;\">\n",
       "      <th></th>\n",
       "      <th>party</th>\n",
       "      <th>partynr</th>\n",
       "      <th>thinktank</th>\n",
       "      <th>year</th>\n",
       "      <th>don</th>\n",
       "      <th>name</th>\n",
       "      <th>country</th>\n",
       "      <th>org</th>\n",
       "      <th>sec1</th>\n",
       "      <th>sec2</th>\n",
       "      <th>det</th>\n",
       "      <th>sum_pcoun</th>\n",
       "      <th>sum_coun</th>\n",
       "      <th>sum_org</th>\n",
       "      <th>sum_year</th>\n",
       "      <th>id</th>\n",
       "      <th>CountryID</th>\n",
       "      <th>CountryName</th>\n",
       "    </tr>\n",
       "  </thead>\n",
       "  <tbody>\n",
       "    <tr>\n",
       "      <th>0</th>\n",
       "      <td>ACRE (ND)</td>\n",
       "      <td>1</td>\n",
       "      <td>0</td>\n",
       "      <td>2014</td>\n",
       "      <td>595.86</td>\n",
       "      <td>Geoffrey Clifton-Brown</td>\n",
       "      <td>28.0</td>\n",
       "      <td>5.0</td>\n",
       "      <td>23.0</td>\n",
       "      <td>NaN</td>\n",
       "      <td>Conservative MP UK</td>\n",
       "      <td>164493.875000</td>\n",
       "      <td>378392.500000</td>\n",
       "      <td>198809.359375</td>\n",
       "      <td>241829.015625</td>\n",
       "      <td>1.0</td>\n",
       "      <td>28.0</td>\n",
       "      <td>UK</td>\n",
       "    </tr>\n",
       "    <tr>\n",
       "      <th>1</th>\n",
       "      <td>ACRE (ND)</td>\n",
       "      <td>1</td>\n",
       "      <td>0</td>\n",
       "      <td>2014</td>\n",
       "      <td>1914.50</td>\n",
       "      <td>George Rukhadze</td>\n",
       "      <td>33.0</td>\n",
       "      <td>3.0</td>\n",
       "      <td>27.0</td>\n",
       "      <td>NaN</td>\n",
       "      <td>Vice-president ECPM / founder Georgian Strateg...</td>\n",
       "      <td>2514.500000</td>\n",
       "      <td>28310.500000</td>\n",
       "      <td>143904.734375</td>\n",
       "      <td>241829.015625</td>\n",
       "      <td>2.0</td>\n",
       "      <td>33.0</td>\n",
       "      <td>Georgia</td>\n",
       "    </tr>\n",
       "    <tr>\n",
       "      <th>2</th>\n",
       "      <td>ACRE (ND)</td>\n",
       "      <td>1</td>\n",
       "      <td>1</td>\n",
       "      <td>2014</td>\n",
       "      <td>2000.00</td>\n",
       "      <td>Bendukidze Stichting</td>\n",
       "      <td>20.0</td>\n",
       "      <td>2.0</td>\n",
       "      <td>13.0</td>\n",
       "      <td>NaN</td>\n",
       "      <td>Foundation of Olga Yuriyevna Novikova co-owner...</td>\n",
       "      <td>32100.000000</td>\n",
       "      <td>426397.625000</td>\n",
       "      <td>378524.062500</td>\n",
       "      <td>241829.015625</td>\n",
       "      <td>3.0</td>\n",
       "      <td>20.0</td>\n",
       "      <td>Netherlands</td>\n",
       "    </tr>\n",
       "    <tr>\n",
       "      <th>3</th>\n",
       "      <td>ACRE (ND)</td>\n",
       "      <td>1</td>\n",
       "      <td>0</td>\n",
       "      <td>2014</td>\n",
       "      <td>4116.00</td>\n",
       "      <td>SIA Contex</td>\n",
       "      <td>16.0</td>\n",
       "      <td>2.0</td>\n",
       "      <td>37.0</td>\n",
       "      <td>24.0</td>\n",
       "      <td>Tabacco products / computer programming</td>\n",
       "      <td>19651.550781</td>\n",
       "      <td>61771.550781</td>\n",
       "      <td>378524.062500</td>\n",
       "      <td>241829.015625</td>\n",
       "      <td>4.0</td>\n",
       "      <td>16.0</td>\n",
       "      <td>Latvia</td>\n",
       "    </tr>\n",
       "    <tr>\n",
       "      <th>4</th>\n",
       "      <td>ACRE (ND)</td>\n",
       "      <td>1</td>\n",
       "      <td>1</td>\n",
       "      <td>2014</td>\n",
       "      <td>12000.00</td>\n",
       "      <td>Manfred Kastner</td>\n",
       "      <td>1.0</td>\n",
       "      <td>1.0</td>\n",
       "      <td>18.0</td>\n",
       "      <td>7.0</td>\n",
       "      <td>CEO Austrian oilcompany + founder Microfinance...</td>\n",
       "      <td>74000.000000</td>\n",
       "      <td>400097.812500</td>\n",
       "      <td>328750.375000</td>\n",
       "      <td>241829.015625</td>\n",
       "      <td>5.0</td>\n",
       "      <td>1.0</td>\n",
       "      <td>Austria</td>\n",
       "    </tr>\n",
       "  </tbody>\n",
       "</table>\n",
       "</div>"
      ],
      "text/plain": [
       "       party  partynr  thinktank  year       don                    name  \\\n",
       "0  ACRE (ND)        1          0  2014    595.86  Geoffrey Clifton-Brown   \n",
       "1  ACRE (ND)        1          0  2014   1914.50         George Rukhadze   \n",
       "2  ACRE (ND)        1          1  2014   2000.00    Bendukidze Stichting   \n",
       "3  ACRE (ND)        1          0  2014   4116.00              SIA Contex   \n",
       "4  ACRE (ND)        1          1  2014  12000.00         Manfred Kastner   \n",
       "\n",
       "   country  org  sec1  sec2  \\\n",
       "0     28.0  5.0  23.0   NaN   \n",
       "1     33.0  3.0  27.0   NaN   \n",
       "2     20.0  2.0  13.0   NaN   \n",
       "3     16.0  2.0  37.0  24.0   \n",
       "4      1.0  1.0  18.0   7.0   \n",
       "\n",
       "                                                 det      sum_pcoun  \\\n",
       "0                                 Conservative MP UK  164493.875000   \n",
       "1  Vice-president ECPM / founder Georgian Strateg...    2514.500000   \n",
       "2  Foundation of Olga Yuriyevna Novikova co-owner...   32100.000000   \n",
       "3            Tabacco products / computer programming   19651.550781   \n",
       "4  CEO Austrian oilcompany + founder Microfinance...   74000.000000   \n",
       "\n",
       "        sum_coun        sum_org       sum_year   id  CountryID  CountryName  \n",
       "0  378392.500000  198809.359375  241829.015625  1.0       28.0           UK  \n",
       "1   28310.500000  143904.734375  241829.015625  2.0       33.0      Georgia  \n",
       "2  426397.625000  378524.062500  241829.015625  3.0       20.0  Netherlands  \n",
       "3   61771.550781  378524.062500  241829.015625  4.0       16.0       Latvia  \n",
       "4  400097.812500  328750.375000  241829.015625  5.0        1.0      Austria  "
      ]
     },
     "execution_count": 2,
     "metadata": {},
     "output_type": "execute_result"
    }
   ],
   "source": [
    "#Lets have a quick look at the data\n",
    "all_data.head()"
   ]
  },
  {
   "cell_type": "markdown",
   "metadata": {},
   "source": [
    "# Source of the  money by country.\n",
    "Here we sum all money up, coming from a speciffic country and see how much goes to which party."
   ]
  },
  {
   "cell_type": "code",
   "execution_count": 3,
   "metadata": {
    "collapsed": true
   },
   "outputs": [],
   "source": [
    "#Lets prepare the data.\n",
    "links = all_data.filter(items=['CountryName','party','don'])\n",
    "\n",
    "#Group the data by country and by party, and sum up the groups\n",
    "links = links.groupby(by=['CountryName','party']).sum()\n",
    "\n",
    "#Convert the dataframe to a dict, that the SankeyWidget needs\n",
    "sankeyList = []\n",
    "for row in links.iterrows():\n",
    "    d = {\n",
    "        'source':row[0][0],\n",
    "        'target':row[0][1],\n",
    "        'value':row[1][0],\n",
    "    }\n",
    "    sankeyList.append(d)"
   ]
  },
  {
   "cell_type": "code",
   "execution_count": 4,
   "metadata": {
    "collapsed": true
   },
   "outputs": [],
   "source": [
    "layout = ipw.Layout(width=\"1000\", height=\"2500\")\n",
    "sankey = sw.SankeyWidget(links=sankeyList, margins=dict(top=0, bottom=0, left=150, right=100), layout=layout)"
   ]
  },
  {
   "cell_type": "markdown",
   "metadata": {},
   "source": [
    "# Source of the  money by country\n",
    "From which country does funding of EU parties come from?"
   ]
  },
  {
   "cell_type": "code",
   "execution_count": 5,
   "metadata": {},
   "outputs": [
    {
     "data": {
      "application/vnd.jupyter.widget-view+json": {
       "model_id": "40663df749774f79aa5c58476e6a390c",
       "version_major": 2,
       "version_minor": 0
      },
      "text/plain": [
       "A Jupyter Widget"
      ]
     },
     "metadata": {},
     "output_type": "display_data"
    }
   ],
   "source": [
    "sankey"
   ]
  },
  {
   "cell_type": "markdown",
   "metadata": {},
   "source": [
    "# Newly politicized money\n",
    "\n",
    "Here we show all the money that is coming from individuals and companies. Money that is clearly already political is removed\n",
    "\n",
    "Organisation classes:\n",
    "* 1 = individual\n",
    "* 2 = company\n",
    "* 3 = NGO\n",
    "* 4 = government(al organization)\n",
    "* 5 = political party / ideological affiliation (e.g. thinktank)"
   ]
  },
  {
   "cell_type": "code",
   "execution_count": 6,
   "metadata": {
    "collapsed": true
   },
   "outputs": [],
   "source": [
    "#We want data only if the org is 1 or 2\n",
    "countries_with_only_companies_and_individuals = all_data.query('org < 3').filter(items=['CountryName','party','don'])\n",
    "\n",
    "#Group the data by country and by party, and sum up the groups\n",
    "countries_with_only_companies_and_individuals = countries_with_only_companies_and_individuals.groupby(by=['CountryName','party']).sum()\n",
    "\n",
    "#Convert the dataframe to a dict, that the SankeyWidget needs\n",
    "\n",
    "sankeyList = []\n",
    "for row in countries_with_only_companies_and_individuals.iterrows():\n",
    "    d = {\n",
    "        'source':row[0][0],\n",
    "        'target':row[0][1],\n",
    "        'value':row[1][0],\n",
    "    }\n",
    "    sankeyList.append(d)"
   ]
  },
  {
   "cell_type": "code",
   "execution_count": 7,
   "metadata": {
    "collapsed": true
   },
   "outputs": [],
   "source": [
    "layout = ipw.Layout(width=\"1000\", height=\"2500\")\n",
    "sankey = sw.SankeyWidget(links=sankeyList, margins=dict(top=0, bottom=0, left=150, right=100), layout=layout)"
   ]
  },
  {
   "cell_type": "markdown",
   "metadata": {},
   "source": [
    "# Newly politicized money\n",
    "From which country does company and individual money come from? "
   ]
  },
  {
   "cell_type": "code",
   "execution_count": 8,
   "metadata": {},
   "outputs": [
    {
     "data": {
      "application/vnd.jupyter.widget-view+json": {
       "model_id": "327513521b33417f95b5374eefcceb62",
       "version_major": 2,
       "version_minor": 0
      },
      "text/plain": [
       "A Jupyter Widget"
      ]
     },
     "metadata": {},
     "output_type": "display_data"
    }
   ],
   "source": [
    "sankey"
   ]
  }
 ],
 "metadata": {
  "kernelspec": {
   "display_name": "Python 3",
   "language": "python3",
   "name": "python3"
  },
  "language_info": {
   "codemirror_mode": {
    "name": "ipython",
    "version": 3
   },
   "file_extension": ".py",
   "mimetype": "text/x-python",
   "name": "python",
   "nbconvert_exporter": "python",
   "pygments_lexer": "ipython3",
   "version": "3.6.5"
  }
 },
 "nbformat": 4,
 "nbformat_minor": 2
}
